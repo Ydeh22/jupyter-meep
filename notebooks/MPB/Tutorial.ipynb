{
 "cells": [
  {
   "cell_type": "code",
   "execution_count": 2,
   "metadata": {},
   "outputs": [
    {
     "name": "stdout",
     "output_type": "stream",
     "text": [
      "The autoreload extension is already loaded. To reload it, use:\n",
      "  %reload_ext autoreload\n"
     ]
    }
   ],
   "source": [
    "%load_ext autoreload\n",
    "%autoreload 2\n",
    "import numpy as np\n",
    "import matplotlib.pyplot as plt\n",
    "\n",
    "from ata\n",
    "\n",
    "import math\n",
    "import meep as mp\n",
    "from meep import mpb"
   ]
  },
  {
   "cell_type": "code",
   "execution_count": 5,
   "metadata": {},
   "outputs": [],
   "source": [
    "num_bands = 8\n",
    "k_points = [mp.Vector3(),          # Gamma\n",
    "            mp.Vector3(0.5),       # X\n",
    "            mp.Vector3(0.5, 0.5),  # M\n",
    "            mp.Vector3()]          # Gamma\n",
    "k_points = mp.interpolate(4, k_points)"
   ]
  },
  {
   "cell_type": "code",
   "execution_count": 7,
   "metadata": {},
   "outputs": [],
   "source": [
    "geometry = [mp.Cylinder(0.2, material=mp.Medium(epsilon=12))] # height is infinite\n",
    "geometry_lattice = mp.Lattice(size=mp.Vector3(1, 1))\n",
    "resolution = 32"
   ]
  },
  {
   "cell_type": "code",
   "execution_count": 8,
   "metadata": {},
   "outputs": [],
   "source": [
    "ms = mpb.ModeSolver(num_bands=num_bands,\n",
    "                    k_points=k_points,\n",
    "                    geometry=geometry,\n",
    "                    geometry_lattice=geometry_lattice,\n",
    "                    resolution=resolution)\n"
   ]
  },
  {
   "cell_type": "code",
   "execution_count": 12,
   "metadata": {},
   "outputs": [
    {
     "name": "stdout",
     "output_type": "stream",
     "text": [
      "Square lattice of rods: TE bands\n",
      "Initializing eigensolver data\n",
      "Computing 8 bands with 1e-07 tolerance\n",
      "16 k-points\n",
      "  Vector3<0.0, 0.0, 0.0>\n",
      "  Vector3<0.1, 0.0, 0.0>\n",
      "  Vector3<0.2, 0.0, 0.0>\n",
      "  Vector3<0.30000000000000004, 0.0, 0.0>\n",
      "  Vector3<0.4, 0.0, 0.0>\n",
      "  Vector3<0.5, 0.0, 0.0>\n",
      "  Vector3<0.5, 0.1, 0.0>\n",
      "  Vector3<0.5, 0.2, 0.0>\n",
      "  Vector3<0.5, 0.30000000000000004, 0.0>\n",
      "  Vector3<0.5, 0.4, 0.0>\n",
      "  Vector3<0.5, 0.5, 0.0>\n",
      "  Vector3<0.4, 0.4, 0.0>\n",
      "  Vector3<0.3, 0.3, 0.0>\n",
      "  Vector3<0.19999999999999996, 0.19999999999999996, 0.0>\n",
      "  Vector3<0.09999999999999998, 0.09999999999999998, 0.0>\n",
      "  Vector3<0.0, 0.0, 0.0>\n",
      "elapsed time for initialization: 0.004567146301269531\n",
      "elapsed time for k point: 0.08141064643859863\n",
      "elapsed time for k point: 0.03674197196960449\n",
      "elapsed time for k point: 0.186629056930542\n",
      "elapsed time for k point: 0.02686905860900879\n",
      "elapsed time for k point: 0.03232884407043457\n",
      "elapsed time for k point: 0.04291081428527832\n",
      "Outputting fields to h.k06.b01.z.te.h5...\n",
      "Outputting dpwr.k06.b01.te.h5...\n",
      "Outputting fields to h.k06.b02.z.te.h5...\n",
      "Outputting dpwr.k06.b02.te.h5...\n",
      "Outputting fields to h.k06.b03.z.te.h5...\n",
      "Outputting dpwr.k06.b03.te.h5...\n",
      "Outputting fields to h.k06.b04.z.te.h5...\n",
      "Outputting dpwr.k06.b04.te.h5...\n",
      "Outputting fields to h.k06.b05.z.te.h5...\n",
      "Outputting dpwr.k06.b05.te.h5...\n",
      "Outputting fields to h.k06.b06.z.te.h5...\n",
      "Outputting dpwr.k06.b06.te.h5...\n",
      "Outputting fields to h.k06.b07.z.te.h5...\n",
      "Outputting dpwr.k06.b07.te.h5...\n",
      "Outputting fields to h.k06.b08.z.te.h5...\n",
      "Outputting dpwr.k06.b08.te.h5...\n",
      "elapsed time for k point: 0.03305983543395996\n",
      "elapsed time for k point: 0.026664018630981445\n",
      "elapsed time for k point: 0.02445507049560547\n",
      "elapsed time for k point: 0.022377967834472656\n",
      "elapsed time for k point: 0.020538806915283203\n",
      "elapsed time for k point: 0.0227200984954834\n",
      "elapsed time for k point: 0.027141332626342773\n",
      "elapsed time for k point: 0.03241586685180664\n",
      "elapsed time for k point: 0.04093313217163086\n",
      "elapsed time for k point: 0.176680326461792\n",
      "Band 1 range: 0.0 at Vector3<0.0, 0.0, 0.0> to 0.4968358657398565 at Vector3<0.5, 0.5, 0.0>\n",
      "Band 2 range: 0.4415884758345551 at Vector3<0.5, 0.0, 0.0> to 0.5931405182468895 at Vector3<0.5, 0.5, 0.0>\n",
      "Band 3 range: 0.5931535893552304 at Vector3<0.5, 0.5, 0.0> to 0.7732265678573134 at Vector3<0.0, 0.0, 0.0>\n",
      "Band 4 range: 0.6791690135255484 at Vector3<0.5, 0.5, 0.0> to 0.8096891662050553 at Vector3<0.3, 0.3, 0.0>\n",
      "Band 5 range: 0.8241814492203777 at Vector3<0.5, 0.30000000000000004, 0.0> to 0.9229965272837156 at Vector3<0.0, 0.0, 0.0>\n",
      "Band 6 range: 0.8819770936730669 at Vector3<0.5, 0.5, 0.0> to 1.0291597307279576 at Vector3<0.5, 0.0, 0.0>\n",
      "Band 7 range: 0.8819818143162897 at Vector3<0.5, 0.5, 0.0> to 1.0860733987595628 at Vector3<0.5, 0.0, 0.0>\n",
      "Band 8 range: 1.08786908715576 at Vector3<0.5, 0.0, 0.0> to 1.114233006642068 at Vector3<0.1, 0.0, 0.0>\n",
      "Gap from band 2 (0.5931405182468895) to band 3 (0.5931535893552304), 0.0022036876449371984%\n",
      "Gap from band 4 (0.8096891662050553) to band 5 (0.8241814492203777), 1.7739817190541625%\n",
      "Gap from band 7 (1.0860733987595628) to band 8 (1.08786908715576), 0.16520109504562966%\n",
      "total elapsed time for run: 0.9000639915466309\n",
      "done\n"
     ]
    }
   ],
   "source": [
    "print(\"Square lattice of rods: TE bands\")\n",
    "# ms.run_te()\n",
    "# ms.run_tm(mpb.output_efield_z)\n",
    "ms.run_te(mpb.output_at_kpoint(mp.Vector3(0.5), mpb.output_hfield_z, mpb.output_dpwr))"
   ]
  },
  {
   "cell_type": "code",
   "execution_count": 21,
   "metadata": {},
   "outputs": [],
   "source": [
    "md = mpb.MPBData(rectify=True, periods=5, resolution=32)\n",
    "eps = ms.get_epsilon()\n",
    "converted_eps = md.convert(eps)"
   ]
  },
  {
   "cell_type": "code",
   "execution_count": 22,
   "metadata": {},
   "outputs": [
    {
     "data": {
      "text/plain": [
       "<matplotlib.image.AxesImage at 0x1138ea4a8>"
      ]
     },
     "execution_count": 22,
     "metadata": {},
     "output_type": "execute_result"
    },
    {
     "data": {
      "image/png": "[encoded data removed]",
      "text/plain": [
       "<Figure size 432x288 with 1 Axes>"
      ]
     },
     "metadata": {},
     "output_type": "display_data"
    }
   ],
   "source": [
    "plt.imshow(converted_eps)\n"
   ]
  },
  {
   "cell_type": "code",
   "execution_count": null,
   "metadata": {},
   "outputs": [],
   "source": []
  }
 ],
 "metadata": {
  "kernelspec": {
   "display_name": "Python 3",
   "language": "python",
   "name": "python3"
  },
  "language_info": {
   "codemirror_mode": {
    "name": "ipython",
    "version": 3
   },
   "file_extension": ".py",
   "mimetype": "text/x-python",
   "name": "python",
   "nbconvert_exporter": "python",
   "pygments_lexer": "ipython3",
   "version": "3.6.5"
  },
  "varInspector": {
   "cols": {
    "lenName": 16,
    "lenType": 16,
    "lenVar": 40
   },
   "kernels_config": {
    "python": {
     "delete_cmd_postfix": "",
     "delete_cmd_prefix": "del ",
     "library": "var_list.py",
     "varRefreshCmd": "print(var_dic_list())"
    },
    "r": {
     "delete_cmd_postfix": ") ",
     "delete_cmd_prefix": "rm(",
     "library": "var_list.r",
     "varRefreshCmd": "cat(var_dic_list()) "
    }
   },
   "types_to_exclude": [
    "module",
    "function",
    "builtin_function_or_method",
    "instance",
    "_Feature"
   ],
   "window_display": false
  }
 },
 "nbformat": 4,
 "nbformat_minor": 2
}
