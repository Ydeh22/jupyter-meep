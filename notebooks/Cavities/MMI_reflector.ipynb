{
 "cells": [
  {
   "cell_type": "markdown",
   "metadata": {},
   "source": [
    "# MMI reflector"
   ]
  },
  {
   "cell_type": "code",
   "execution_count": 1,
   "metadata": {},
   "outputs": [
    {
     "name": "stdout",
     "output_type": "stream",
     "text": [
      "The autoreload extension is already loaded. To reload it, use:\n",
      "  %reload_ext autoreload\n"
     ]
    }
   ],
   "source": [
    "%load_ext autoreload\n",
    "%autoreload 2\n",
    "import numpy as np\n",
    "import matplotlib.pyplot as plt\n",
    "\n",
    "import meep as mp"
   ]
  },
  {
   "cell_type": "code",
   "execution_count": 2,
   "metadata": {},
   "outputs": [],
   "source": [
    "# Define the system\n",
    "# parameters for 1220nm\n",
    "sm_width = .35  # um\n",
    "wavelength = 1.22  # um\n",
    "frequency = 1 / 1.22\n",
    "MMI_width = 4.45\n",
    "MMI_length = 8\n",
    "\n",
    "cell = mp.Vector3(16, 8, 0)\n",
    "\n",
    "geometry = [mp.Block(mp.Vector3(cell.x / 2, sm_width, 1e20),\n",
    "                     center=mp.Vector3(-cell.x / 4, 0),\n",
    "                     material=mp.Medium(epsilon=12)),\n",
    "            mp.Block(mp.Vector3(MMI_length, MMI_width, 1e20),\n",
    "                     center=mp.Vector3(MMI_length / 2, 0),\n",
    "                     material=mp.Medium(epsilon=12)),\n",
    "#             mp.Prism([mp.Vector3(MMI_length, MMI_width / 2),\n",
    "#                       mp.Vector3(MMI_length, -MMI_width / 2),\n",
    "#                       mp.Vector3(MMI_length + MMI_width, 0),\n",
    "#                      ], \n",
    "#                      height=0, material=mp.Medium(epsilon=12)),\n",
    "           ]\n",
    "\n",
    "# this should be replaced by an eigenmode\n",
    "sources = [mp.Source(mp.ContinuousSource(frequency=frequency, width=20),\n",
    "                     component=mp.Ez,\n",
    "                     center=mp.Vector3(-cell.x / 2, 0),\n",
    "                     size=mp.Vector3(0, sm_width))]\n",
    "\n",
    "pml_layers = [mp.PML(1.0)]\n",
    "\n",
    "resolution = 10"
   ]
  },
  {
   "cell_type": "code",
   "execution_count": 3,
   "metadata": {},
   "outputs": [
    {
     "name": "stdout",
     "output_type": "stream",
     "text": [
      "-----------\n",
      "Initializing structure...\n",
      "run 0 finished at t = 1.0 (20 timesteps)\n"
     ]
    },
    {
     "data": {
      "image/png": "[encoded data removed]",
      "text/plain": [
       "<Figure size 600x400 with 1 Axes>"
      ]
     },
     "metadata": {},
     "output_type": "display_data"
    }
   ],
   "source": [
    "# Do the simulation, and verify the geometry\n",
    "sim = mp.Simulation(cell_size=cell,\n",
    "                    boundary_layers=pml_layers,\n",
    "                    geometry=geometry,\n",
    "                    sources=sources,\n",
    "                    resolution=resolution)\n",
    "def verify_geometry():\n",
    "    sim.run(until=1)\n",
    "    eps_data = sim.get_array(center=mp.Vector3(), size=cell, component=mp.Dielectric)\n",
    "    plt.figure(dpi=100)\n",
    "    plt.imshow(eps_data.transpose(), interpolation='spline36', cmap='binary')\n",
    "verify_geometry()"
   ]
  },
  {
   "cell_type": "code",
   "execution_count": 6,
   "metadata": {},
   "outputs": [
    {
     "name": "stdout",
     "output_type": "stream",
     "text": [
      "run 3 finished at t = 61.0 (1220 timesteps)\n"
     ]
    },
    {
     "data": {
      "image/png": "[encoded data removed]",
      "text/plain": [
       "<Figure size 600x400 with 1 Axes>"
      ]
     },
     "metadata": {},
     "output_type": "display_data"
    }
   ],
   "source": [
    "def plot_sim(until=200):\n",
    "#     sim.reset_meep()\n",
    "    sim.run(until=until)\n",
    "    eps_data = sim.get_array(center=mp.Vector3(), size=cell, component=mp.Dielectric)\n",
    "    ez_data = sim.get_array(center=mp.Vector3(), size=cell, component=mp.Ez)\n",
    "    plt.figure(dpi=100)\n",
    "    plt.imshow(eps_data.transpose(), interpolation='spline36', cmap='binary')\n",
    "    plt.imshow(ez_data.transpose(), interpolation='spline36', cmap='RdBu', alpha=0.9)\n",
    "    plt.axis('off')\n",
    "plot_sim(20)"
   ]
  },
  {
   "cell_type": "code",
   "execution_count": null,
   "metadata": {},
   "outputs": [],
   "source": []
  }
 ],
 "metadata": {
  "kernelspec": {
   "display_name": "Python 3",
   "language": "python",
   "name": "python3"
  },
  "language_info": {
   "codemirror_mode": {
    "name": "ipython",
    "version": 3
   },
   "file_extension": ".py",
   "mimetype": "text/x-python",
   "name": "python",
   "nbconvert_exporter": "python",
   "pygments_lexer": "ipython3",
   "version": "3.6.5"
  }
 },
 "nbformat": 4,
 "nbformat_minor": 2
}
