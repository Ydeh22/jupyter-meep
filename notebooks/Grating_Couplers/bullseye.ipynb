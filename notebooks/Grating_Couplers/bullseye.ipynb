{
 "cells": [
  {
   "cell_type": "code",
   "execution_count": 1,
   "metadata": {},
   "outputs": [
    {
     "name": "stdout",
     "output_type": "stream",
     "text": [
      "The autoreload extension is already loaded. To reload it, use:\n",
      "  %reload_ext autoreload\n"
     ]
    }
   ],
   "source": [
    "%load_ext autoreload\n",
    "%autoreload 2\n",
    "import numpy as np\n",
    "import matplotlib.pyplot as plt\n",
    "import subprocess\n",
    "import shutil\n",
    "from IPython import display\n",
    "\n",
    "import meep as mp\n",
    "\n",
    "import sys\n",
    "sys.path.append('../../lib')\n",
    "from ataitmeep import *\n",
    "\n",
    "from lightlab.util import io\n",
    "from lightlab.util.data import Spectrum, FunctionBundle, MeasuredFunction"
   ]
  },
  {
   "cell_type": "code",
   "execution_count": 2,
   "metadata": {},
   "outputs": [],
   "source": [
    "io.dataHome /= 'couplers'"
   ]
  },
  {
   "cell_type": "code",
   "execution_count": 7,
   "metadata": {},
   "outputs": [],
   "source": [
    "# Define the system\n",
    "# parameters for 1220nm\n",
    "\n",
    "default_geometry = dict(\n",
    "                        device_height = 0.22,\n",
    "                        pitch = 0.6,\n",
    "                        duty = 0.5,\n",
    "                        post_diameter = 2,\n",
    "                        n_periods = 10,\n",
    "                        box_height = 2,\n",
    "                        cladding_height = 2,\n",
    "                        handle_height = 3,\n",
    "                       )\n",
    "\n",
    "oxide = mp.Medium(epsilon=2.25)\n",
    "silicon = mp.Medium(epsilon=12)\n",
    "air = mp.Medium(epsilon=1)\n",
    "\n",
    "def give_cell(**kwargs):\n",
    "    geom_dict = default_geometry.copy()\n",
    "    geom_dict.update(kwargs)\n",
    "    geo = objview(**geom_dict)\n",
    "\n",
    "    cell = mp.Vector3(2 * geo.pitch * geo.n_periods + 5, geo.box_height + geo.cladding_height + 2*geo.handle_height)\n",
    "    return cell\n",
    "\n",
    "def give_geometry(**kwargs):\n",
    "    geom_dict = default_geometry.copy()\n",
    "    geom_dict.update(kwargs)\n",
    "    geo = objview(**geom_dict)\n",
    "    \n",
    "    cladding = mp.Block(mp.Vector3(cell.x, geo.box_height + geo.cladding_height, 1e20),\n",
    "                        center=mp.Vector3(0, 0),\n",
    "                        material=oxide)\n",
    "    handle = mp.Block(mp.Vector3(cell.x, geo.handle_height, 1e20),\n",
    "                     center=mp.Vector3(0, -cell.y/2 + geo.handle_height/2),\n",
    "                     material=silicon)\n",
    "    space = mp.Block(mp.Vector3(cell.x, geo.handle_height, 1e20),\n",
    "                     center=mp.Vector3(0, cell.y/2 - geo.handle_height/2),\n",
    "                     material=air)\n",
    "    device_layer = [mp.Block(mp.Vector3(geo.post_diameter, geo.device_height, 1e20),\n",
    "                                        center=mp.Vector3(0, geo.device_height/2),\n",
    "                                        material=silicon),\n",
    "                   ]\n",
    "    for iPeriod in range(geo.n_periods):\n",
    "        for side_sign in [-1, 1]:\n",
    "            device_layer.append(mp.Block(mp.Vector3(geo.pitch * geo.duty, geo.device_height, 1e20),\n",
    "                                         center=mp.Vector3(side_sign * (geo.pitch * iPeriod + geo.pitch*1.5), geo.device_height/2),\n",
    "                                         material=silicon))\n",
    "    geometry = [cladding, handle, space]\n",
    "    geometry.extend(device_layer)\n",
    "    return geometry\n",
    "\n",
    "cell = give_cell()\n",
    "geometry = give_geometry()\n",
    "    \n",
    "dpml = 1.\n",
    "pml_layers = [mp.PML(dpml)]\n",
    "\n",
    "# this should be replaced by an eigenmode\n",
    "fcen = 1 / 1.22\n",
    "df = fcen / 10\n",
    "nfreq = 101\n",
    "sources = [mp.Source(mp.GaussianSource(fcen, fwidth=df), \n",
    "                     component=mp.Ez,\n",
    "                     center=mp.Vector3(0, default_geometry['device_height']/2), \n",
    "#                      size=mp.Vector3(0, sm_width),\n",
    "                    ),\n",
    "          ]\n",
    "# sources = [mp.Source(mp.ContinuousSource(frequency=fcen, width=2),\n",
    "#                      component=mp.Ez,\n",
    "#                      center=mp.Vector3(-cell.x / 2 + dpml, 0),\n",
    "# #                      center=mp.Vector3(cell.x / 2 - dpml, out_pitch / 2),  # not working\n",
    "#                      size=mp.Vector3(0, sm_width))]\n",
    "\n",
    "resolution = 20"
   ]
  },
  {
   "cell_type": "code",
   "execution_count": 8,
   "metadata": {},
   "outputs": [
    {
     "name": "stdout",
     "output_type": "stream",
     "text": [
      "-----------\n",
      "Initializing structure...\n",
      "run 0 finished at t = 0.0 (0 timesteps)\n"
     ]
    },
    {
     "data": {
      "image/png": "[encoded data removed]",
      "text/plain": [
       "<Figure size 600x400 with 1 Axes>"
      ]
     },
     "metadata": {},
     "output_type": "display_data"
    }
   ],
   "source": [
    "sim = mp.Simulation(cell_size=cell,\n",
    "                    boundary_layers=pml_layers,\n",
    "                    geometry=geometry,\n",
    "                    sources=sources,\n",
    "                    resolution=resolution,\n",
    "#                     symmetries=[mp.Mirror(mp.Y, phase=-1)],\n",
    "                    progress_interval=1e6)\n",
    "\n",
    "eps_data = show_geometry(sim)"
   ]
  },
  {
   "cell_type": "code",
   "execution_count": null,
   "metadata": {},
   "outputs": [],
   "source": []
  }
 ],
 "metadata": {
  "kernelspec": {
   "display_name": "Python 3",
   "language": "python",
   "name": "python3"
  },
  "language_info": {
   "codemirror_mode": {
    "name": "ipython",
    "version": 3
   },
   "file_extension": ".py",
   "mimetype": "text/x-python",
   "name": "python",
   "nbconvert_exporter": "python",
   "pygments_lexer": "ipython3",
   "version": "3.6.5"
  }
 },
 "nbformat": 4,
 "nbformat_minor": 2
}
