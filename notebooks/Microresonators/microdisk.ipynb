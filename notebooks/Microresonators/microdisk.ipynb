{
 "cells": [
  {
   "cell_type": "markdown",
   "metadata": {},
   "source": [
    "# Microring\n",
    "Eventually, this should turn into a laser.\n",
    "\n",
    "Goals are to determine what is due to Purcell enhancement vs. scattering?\n",
    "\n",
    "### Gain\n",
    "- two level atom with transition at 1218 (not the sideband)\n",
    "\n",
    "### Maxwell\n",
    "- rotational symmetry, unless we want to do waveguide coupling\n",
    "- simpler: 2D side view with reflection symmetry (is this actually faster)?\n",
    "- can we look at the far field?\n",
    "\n",
    "### Questions\n",
    "- what is Harminv"
   ]
  },
  {
   "cell_type": "code",
   "execution_count": 2,
   "metadata": {},
   "outputs": [
    {
     "name": "stdout",
     "output_type": "stream",
     "text": [
      "The autoreload extension is already loaded. To reload it, use:\n",
      "  %reload_ext autoreload\n"
     ]
    }
   ],
   "source": [
    "%load_ext autoreload\n",
    "%autoreload 2\n",
    "import numpy as np\n",
    "import matplotlib.pyplot as plt\n",
    "import shutil\n",
    "\n",
    "import meep as mp\n",
    "\n",
    "import sys\n",
    "sys.path.append('../../lib')\n",
    "from meep_nb import *\n",
    "\n",
    "from lightlab.util import io\n",
    "import argparse"
   ]
  },
  {
   "cell_type": "code",
   "execution_count": 3,
   "metadata": {},
   "outputs": [],
   "source": [
    "io.fileDir = io.dataHome / 'microresonators'\n",
    "_ = io.pprintFileDir()"
   ]
  },
  {
   "cell_type": "markdown",
   "metadata": {},
   "source": [
    "## First find the modes of a microring\n",
    "This is adapted from `ring_cyl.py`"
   ]
  },
  {
   "cell_type": "code",
   "execution_count": 6,
   "metadata": {},
   "outputs": [],
   "source": [
    "from default_geometries import give_1d_microring_geometry\n",
    "\n",
    "def give_sim(geometry=None, fcen=0.15, m=3, src_r=1, dpml=32):\n",
    "    # m is rotational periods\n",
    "    if geometry is None:\n",
    "        geometry = give_1d_microring_geometry(r=10)\n",
    "    sr = geometry[0].size.x + dpml\n",
    "    cell = mp.Vector3(sr, 0, 0)\n",
    "    dimensions = mp.CYLINDRICAL\n",
    "\n",
    "    pml_layers = [mp.PML(dpml)]\n",
    "    resolution = 20\n",
    "\n",
    "    df = fcen * 2/3\n",
    "    \n",
    "    # source must be rotationally symmetric too\n",
    "    sources = [mp.Source(src=mp.GaussianSource(fcen, fwidth=df),\n",
    "                         component=mp.Ez,\n",
    "                         center=mp.Vector3(src_r + 0.1))]\n",
    "\n",
    "    sim = mp.Simulation(cell_size=cell,\n",
    "                        geometry=geometry,\n",
    "                        boundary_layers=pml_layers,\n",
    "                        resolution=resolution,\n",
    "                        sources=sources,\n",
    "                        dimensions=dimensions,\n",
    "                        m=m,\n",
    "                       )\n",
    "    return sim"
   ]
  },
  {
   "cell_type": "code",
   "execution_count": null,
   "metadata": {},
   "outputs": [],
   "source": [
    "# Run it to find the resonant frequency\n",
    "geo = give_1d_microring_geometry(r=10)\n",
    "sim = give_sim(src_r=10.1)\n",
    "show_geometry(sim)\n",
    "sim.run(until=0.1)\n",
    "# sim.run(mp.after_sources(mp.Harminv(mp.Ez, mp.Vector3(r + 0.1), fcen, df)),\n",
    "#         until_after_sources=200)\n",
    "\n",
    "# sim.run(mp.in_volume(mp.Volume(center=mp.Vector3(), size=mp.Vector3(2 * sr)), # both sides\n",
    "#                      mp.at_beginning(mp.output_epsilon),\n",
    "#                      mp.to_appended(\"ez\", mp.at_every(1 / fcen / 20, mp.output_efield_z))),\n",
    "#         until=1 / fcen)  # one period"
   ]
  },
  {
   "cell_type": "code",
   "execution_count": null,
   "metadata": {},
   "outputs": [],
   "source": []
  }
 ],
 "metadata": {
  "kernelspec": {
   "display_name": "Python 3",
   "language": "python",
   "name": "python3"
  },
  "varInspector": {
   "cols": {
    "lenName": 16,
    "lenType": 16,
    "lenVar": 40
   },
   "kernels_config": {
    "python": {
     "delete_cmd_postfix": "",
     "delete_cmd_prefix": "del ",
     "library": "var_list.py",
     "varRefreshCmd": "print(var_dic_list())"
    },
    "r": {
     "delete_cmd_postfix": ") ",
     "delete_cmd_prefix": "rm(",
     "library": "var_list.r",
     "varRefreshCmd": "cat(var_dic_list()) "
    }
   },
   "types_to_exclude": [
    "module",
    "function",
    "builtin_function_or_method",
    "instance",
    "_Feature"
   ],
   "window_display": false
  }
 },
 "nbformat": 4,
 "nbformat_minor": 2
}
