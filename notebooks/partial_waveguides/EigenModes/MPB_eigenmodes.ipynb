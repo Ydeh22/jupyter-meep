{
 "cells": [
  {
   "cell_type": "code",
   "execution_count": 32,
   "metadata": {},
   "outputs": [
    {
     "name": "stdout",
     "output_type": "stream",
     "text": [
      "The autoreload extension is already loaded. To reload it, use:\n",
      "  %reload_ext autoreload\n"
     ]
    }
   ],
   "source": [
    "%load_ext autoreload\n",
    "%autoreload 2\n",
    "import numpy as np\n",
    "import matplotlib.pyplot as plt\n",
    "\n",
    "import meep as mp\n",
    "from meep import mpb\n",
    "\n",
    "import sys, os\n",
    "sys.path.append('../../../lib')\n",
    "sys.path.append('..')\n",
    "from meep_nb import *\n",
    "from partial_wgs import *\n",
    "\n",
    "%config InlineBackend.figure_format = 'retina'\n",
    "from matplotlib.backends.backend_pdf import PdfPages\n",
    "    "
   ]
  },
  {
   "cell_type": "code",
   "execution_count": 33,
   "metadata": {},
   "outputs": [
    {
     "data": {
      "text/plain": [
       "(224, 160)"
      ]
     },
     "execution_count": 33,
     "metadata": {},
     "output_type": "execute_result"
    },
    {
     "data": {
      "image/png": "[encoded data removed]",
      "text/plain": [
       "<Figure size 600x400 with 1 Axes>"
      ]
     },
     "metadata": {
      "image/png": {
       "height": 350,
       "width": 480
      }
     },
     "output_type": "display_data"
    }
   ],
   "source": [
    "ms = get_ms(geom=get_xs(.35, two_wg_gap=None, encapsulation=.6))\n",
    "ms.init_params(mp.NO_PARITY, reset_fields=True)\n",
    "show_geometry(ms, periods=1).shape"
   ]
  },
  {
   "cell_type": "markdown",
   "metadata": {},
   "source": [
    "## Compute k values over some variable. Pick one"
   ]
  },
  {
   "cell_type": "code",
   "execution_count": 35,
   "metadata": {},
   "outputs": [
    {
     "name": "stdout",
     "output_type": "stream",
     "text": [
      "Initializing eigensolver data\n",
      "Computing 1 bands with 1e-07 tolerance\n",
      "1 k-points\n",
      "  Vector3<2.832512315270936, 0.0, 0.0>\n",
      "elapsed time for initialization: 0.05365610122680664\n",
      "elapsed time for k point: 0.23035597801208496\n",
      "total elapsed time for run: 0.2848379611968994\n",
      "done\n",
      "find-k 1 at 2.832512315270936: 0.2796053930030259\n",
      "Initializing eigensolver data\n",
      "Computing 1 bands with 1e-07 tolerance\n",
      "1 k-points\n",
      "  Vector3<0.08210180623973728, 0.0, 0.0>\n",
      "elapsed time for initialization: 0.05535697937011719\n",
      "elapsed time for k point: 0.10174202919006348\n",
      "total elapsed time for run: 0.15735125541687012\n",
      "done\n",
      "find-k 1 at 0.08210180623973728: -0.763896313477439\n",
      "Initializing eigensolver data\n",
      "Computing 1 bands with 1e-07 tolerance\n",
      "1 k-points\n",
      "  Vector3<3.284072249589491, 0.0, 0.0>\n",
      "elapsed time for initialization: 0.03923821449279785\n",
      "elapsed time for k point: 0.2042999267578125\n",
      "total elapsed time for run: 0.24372076988220215\n",
      "done\n",
      "find-k 1 at 3.284072249589491: 0.39321242757238173\n",
      "Initializing eigensolver data\n",
      "Computing 1 bands with 1e-07 tolerance\n",
      "1 k-points\n",
      "  Vector3<1.7225949136329823, 0.0, 0.0>\n",
      "elapsed time for initialization: 0.04317283630371094\n",
      "elapsed time for k point: 0.20932674407958984\n",
      "total elapsed time for run: 0.2527039051055908\n",
      "done\n",
      "find-k 1 at 1.7225949136329823: -0.011331657967460163\n",
      "Initializing eigensolver data\n",
      "Computing 1 bands with 1e-07 tolerance\n",
      "1 k-points\n",
      "  Vector3<1.7622385018878932, 0.0, 0.0>\n",
      "elapsed time for initialization: 0.03725385665893555\n",
      "elapsed time for k point: 0.23545289039611816\n",
      "total elapsed time for run: 0.27294206619262695\n",
      "done\n",
      "find-k 1 at 1.7622385018878932: -6.241159089315218e-05\n",
      "Initializing eigensolver data\n",
      "Computing 1 bands with 1e-07 tolerance\n",
      "1 k-points\n",
      "  Vector3<1.7624592452447787, 0.0, 0.0>\n",
      "elapsed time for initialization: 0.03813004493713379\n",
      "elapsed time for k point: 0.21433711051940918\n",
      "total elapsed time for run: 0.25332093238830566\n",
      "done\n",
      "find-k 1 at 1.7624592452447787: -2.6626025828591082e-09\n",
      "yoddkvals:, 0.8210180623973727, 1, 1, 0.0, 0.0, 0.0, 1.0, 0.0, 0.0, 1.7624592546625444\n",
      "\n",
      "W=0.200\n",
      "\n",
      "Initializing eigensolver data\n",
      "Computing 1 bands with 1e-07 tolerance\n",
      "1 k-points\n",
      "  Vector3<2.832512315270936, 0.0, 0.0>\n",
      "elapsed time for initialization: 0.05700087547302246\n",
      "elapsed time for k point: 0.17552804946899414\n",
      "total elapsed time for run: 0.2334580421447754\n",
      "done\n",
      "find-k 1 at 2.832512315270936: 0.17471541499554222\n",
      "Initializing eigensolver data\n",
      "Computing 1 bands with 1e-07 tolerance\n",
      "1 k-points\n",
      "  Vector3<0.08210180623973728, 0.0, 0.0>\n",
      "elapsed time for initialization: 0.03791213035583496\n",
      "elapsed time for k point: 0.10428214073181152\n",
      "total elapsed time for run: 0.14242291450500488\n",
      "done\n",
      "find-k 1 at 0.08210180623973728: -0.7641681955917271\n",
      "Initializing eigensolver data\n",
      "Computing 1 bands with 1e-07 tolerance\n",
      "1 k-points\n",
      "  Vector3<3.284072249589491, 0.0, 0.0>\n",
      "elapsed time for initialization: 0.03908419609069824\n",
      "elapsed time for k point: 0.18961811065673828\n",
      "total elapsed time for run: 0.22925519943237305\n",
      "done\n",
      "find-k 1 at 3.284072249589491: 0.29146968162932885\n",
      "Initializing eigensolver data\n",
      "Computing 1 bands with 1e-07 tolerance\n",
      "1 k-points\n",
      "  Vector3<2.1521370516949183, 0.0, 0.0>\n",
      "elapsed time for initialization: 0.03791213035583496\n",
      "elapsed time for k point: 0.18137502670288086\n",
      "total elapsed time for run: 0.2198021411895752\n",
      "done\n",
      "find-k 1 at 2.1521370516949183: 0.001778620533097297\n",
      "Initializing eigensolver data\n",
      "Computing 1 bands with 1e-07 tolerance\n",
      "1 k-points\n",
      "  Vector3<2.145075996380588, 0.0, 0.0>\n",
      "elapsed time for initialization: 0.03815174102783203\n",
      "elapsed time for k point: 0.17428088188171387\n",
      "total elapsed time for run: 0.21268510818481445\n",
      "done\n",
      "find-k 1 at 2.145075996380588: 1.1275657585407828e-07\n",
      "yoddkvals:, 0.8210180623973727, 1, 1, 0.0, 0.0, 0.0, 1.0, 0.0, 0.0, 2.1450755486812634\n",
      "\n",
      "W=0.350\n",
      "\n",
      "Initializing eigensolver data\n",
      "Computing 1 bands with 1e-07 tolerance\n",
      "1 k-points\n",
      "  Vector3<2.832512315270936, 0.0, 0.0>\n",
      "elapsed time for initialization: 0.039984941482543945\n",
      "elapsed time for k point: 0.1596832275390625\n",
      "total elapsed time for run: 0.1999340057373047\n",
      "done\n",
      "find-k 1 at 2.832512315270936: 0.13846183133201007\n",
      "Initializing eigensolver data\n",
      "Computing 1 bands with 1e-07 tolerance\n",
      "1 k-points\n",
      "  Vector3<0.08210180623973728, 0.0, 0.0>\n",
      "elapsed time for initialization: 0.038934946060180664\n",
      "elapsed time for k point: 0.11482620239257812\n",
      "total elapsed time for run: 0.15494298934936523\n",
      "done\n",
      "find-k 1 at 0.08210180623973728: -0.7644696444057136\n",
      "Initializing eigensolver data\n",
      "Computing 1 bands with 1e-07 tolerance\n",
      "1 k-points\n",
      "  Vector3<3.284072249589491, 0.0, 0.0>\n",
      "elapsed time for initialization: 0.04529881477355957\n",
      "elapsed time for k point: 0.27466702461242676\n",
      "total elapsed time for run: 0.3212428092956543\n",
      "done\n",
      "find-k 1 at 3.284072249589491: 0.25823774745605255\n",
      "Initializing eigensolver data\n",
      "Computing 1 bands with 1e-07 tolerance\n",
      "1 k-points\n",
      "  Vector3<2.307780712439909, 0.0, 0.0>\n",
      "elapsed time for initialization: 0.05858302116394043\n",
      "elapsed time for k point: 0.20233488082885742\n",
      "total elapsed time for run: 0.26110076904296875\n",
      "done\n",
      "find-k 1 at 2.307780712439909: 0.0009275293722722511\n",
      "Initializing eigensolver data\n",
      "Computing 1 bands with 1e-07 tolerance\n",
      "1 k-points\n",
      "  Vector3<2.3042169218985573, 0.0, 0.0>\n",
      "elapsed time for initialization: 0.0402989387512207\n",
      "elapsed time for k point: 0.23590612411499023\n",
      "total elapsed time for run: 0.27730703353881836\n",
      "done\n",
      "find-k 1 at 2.3042169218985573: 4.534628417207642e-08\n",
      "yoddkvals:, 0.8210180623973727, 1, 1, 0.0, 0.0, 0.0, 1.0, 0.0, 0.0, 2.3042167476506648\n",
      "\n",
      "W=0.500\n",
      "\n"
     ]
    }
   ],
   "source": [
    "kmat = []\n",
    "\n",
    "wids = np.linspace(.2, .5, 3)\n",
    "for wid in wids:\n",
    "    ks = get_ks(xs=get_xs(wid, two_wg_gap=None, encapsulation=.6), freq=1/1.218, num_bands=1)\n",
    "    kmat.append(ks)\n",
    "    print('\\nW={:.3f}\\n'.format(wid))\n",
    "xvar = wids\n",
    "    \n",
    "# gaps = np.linspace(.5, 1, 2)\n",
    "# for gap in gaps:\n",
    "#     ks = get_ks(xs=get_xs(two_wg_gap=gap), freq=1/1.218, num_bands=4)\n",
    "#     kmat.append(ks)\n",
    "#     print('\\nW={:.3f}\\n'.format(gap))\n",
    "# xvar = gaps"
   ]
  },
  {
   "cell_type": "code",
   "execution_count": 22,
   "metadata": {},
   "outputs": [
    {
     "data": {
      "image/png": "[encoded data removed]",
      "text/plain": [
       "<Figure size 432x288 with 1 Axes>"
      ]
     },
     "metadata": {
      "image/png": {
       "height": 263,
       "width": 393
      }
     },
     "output_type": "display_data"
    }
   ],
   "source": [
    "karr = np.array(kmat)\n",
    "neffs = karr * 1.218\n",
    "\n",
    "# plt.plot(wids, karr, '.-')\n",
    "# plt.plot([wids[0], wids[-1]], [cutoff_k(1/1.218)]*2, '--k')\n",
    "\n",
    "plt.plot(xvar, neffs, '.-')\n",
    "plt.plot([xvar[0], xvar[-1]], [[3.45, 1.45]]*2, '--k')\n",
    "plt.ylabel('neff')\n",
    "plt.title('TE gaps 350nm width')\n",
    "\n",
    "if True:\n",
    "    with PdfPages('coupling_gaps.pdf') as pdf:\n",
    "        pdf.savefig()"
   ]
  },
  {
   "cell_type": "markdown",
   "metadata": {},
   "source": [
    "## Make a bragg grating"
   ]
  },
  {
   "cell_type": "code",
   "execution_count": 34,
   "metadata": {},
   "outputs": [],
   "source": [
    "# For 1D calculations\n",
    "from lightlab.util.data import MeasuredFunction\n",
    "mf = MeasuredFunction(wids, neffs[:,0])\n",
    "\n",
    "\n",
    "def bragg_bandgap(na, nb, center=1):\n",
    "    # center can be frequency or wavelength\n",
    "    # center=1 means it is fractional\n",
    "    return np.arcsin(np.abs(na - nb) / (na + nb)) * center\n",
    "\n",
    "def bragg_reflection(na, nb, num_periods):\n",
    "    na_exp = na ** (2 * num_periods)\n",
    "    nb_exp = nb ** (2 * num_periods)\n",
    "    return ((na_exp - nb_exp) / (na_exp + nb_exp)) ** 2"
   ]
  },
  {
   "cell_type": "code",
   "execution_count": 63,
   "metadata": {},
   "outputs": [
    {
     "name": "stdout",
     "output_type": "stream",
     "text": [
      "Wavelength 1.218\n",
      "SM neff 2.5623471604618224\n",
      "wid1 0.3859158914382134\n",
      "wid2 0.32088948618694646\n",
      "period 0.2376727125024844\n",
      "Bandwidth 35.65599940313596 nm\n",
      "Reflection: 1 = 0.0034210761882610854\n",
      "Reflection: 5 = 0.08105135907936595\n",
      "Reflection: 10 = 0.2774135300174629\n",
      "Reflection: 20 = 0.6800245730442949\n",
      "Reflection: 40 = 0.9637254539363201\n",
      "Reflection: 60 = 0.9964552823174527\n",
      "Reflection: 80 = 0.9996587737496491\n",
      "Reflection: 100 = 0.9999672000218648\n"
     ]
    }
   ],
   "source": [
    "wl = 1.218\n",
    "sm_wg = 0.350\n",
    "dn = .15\n",
    "Nper = 20\n",
    "\n",
    "# get index for the input waveguide\n",
    "print('Wavelength', wl)\n",
    "nwg = mf(sm_wg)\n",
    "print('SM neff', nwg)\n",
    "\n",
    "# calculate the two WG widths and lengths (duty is assumed 0.5)\n",
    "n1 = nwg + dn/2\n",
    "n2 = nwg - dn/2\n",
    "print('wid1', mf.invert(n1))\n",
    "print('wid2', mf.invert(n2))\n",
    "print('period', wl/2/nwg)\n",
    "\n",
    "# bandgap\n",
    "print('Bandwidth', bragg_bandgap(n1, n2, wl) *1e3, 'nm')\n",
    "\n",
    "# some reflections\n",
    "for per in [1, 5, 10, 20, 40, 60, 80, 100]:\n",
    "    print('Reflection:', per, '=', bragg_reflection(n1, n2, per))\n",
    "\n",
    "\n",
    "# print(mf(.350))\n",
    "\n",
    "# get the width for this neff\n",
    "# dn = .16\n",
    "# print(mf.invert(mf(.350) - dn/2))"
   ]
  },
  {
   "cell_type": "code",
   "execution_count": 18,
   "metadata": {},
   "outputs": [
    {
     "data": {
      "text/plain": [
       "0.24195470798569726"
      ]
     },
     "execution_count": 18,
     "metadata": {},
     "output_type": "execute_result"
    }
   ],
   "source": [
    "1.218/2/2.517"
   ]
  },
  {
   "cell_type": "markdown",
   "metadata": {},
   "source": [
    "## Coupling gap"
   ]
  },
  {
   "cell_type": "code",
   "execution_count": null,
   "metadata": {},
   "outputs": [],
   "source": []
  }
 ],
 "metadata": {
  "kernelspec": {
   "display_name": "Python 3",
   "language": "python",
   "name": "python3"
  },
  "language_info": {
   "codemirror_mode": {
    "name": "ipython",
    "version": 3
   },
   "file_extension": ".py",
   "mimetype": "text/x-python",
   "name": "python",
   "nbconvert_exporter": "python",
   "pygments_lexer": "ipython3",
   "version": "3.6.5"
  },
  "varInspector": {
   "cols": {
    "lenName": 16,
    "lenType": 16,
    "lenVar": 40
   },
   "kernels_config": {
    "python": {
     "delete_cmd_postfix": "",
     "delete_cmd_prefix": "del ",
     "library": "var_list.py",
     "varRefreshCmd": "print(var_dic_list())"
    },
    "r": {
     "delete_cmd_postfix": ") ",
     "delete_cmd_prefix": "rm(",
     "library": "var_list.r",
     "varRefreshCmd": "cat(var_dic_list()) "
    }
   },
   "types_to_exclude": [
    "module",
    "function",
    "builtin_function_or_method",
    "instance",
    "_Feature"
   ],
   "window_display": false
  }
 },
 "nbformat": 4,
 "nbformat_minor": 2
}
